{
 "cells": [
  {
   "cell_type": "markdown",
   "id": "f03895a2",
   "metadata": {},
   "source": [
    "# Краткий обзор данных"
   ]
  },
  {
   "cell_type": "code",
   "execution_count": 201,
   "id": "b18463df",
   "metadata": {},
   "outputs": [],
   "source": [
    "# !pip install scipy"
   ]
  },
  {
   "cell_type": "code",
   "execution_count": 202,
   "id": "37fd5910",
   "metadata": {},
   "outputs": [
    {
     "data": {
      "text/html": [
       "<div>\n",
       "<style scoped>\n",
       "    .dataframe tbody tr th:only-of-type {\n",
       "        vertical-align: middle;\n",
       "    }\n",
       "\n",
       "    .dataframe tbody tr th {\n",
       "        vertical-align: top;\n",
       "    }\n",
       "\n",
       "    .dataframe thead th {\n",
       "        text-align: right;\n",
       "    }\n",
       "</style>\n",
       "<table border=\"1\" class=\"dataframe\">\n",
       "  <thead>\n",
       "    <tr style=\"text-align: right;\">\n",
       "      <th></th>\n",
       "      <th>EmpID</th>\n",
       "      <th>Age</th>\n",
       "      <th>AgeGroup</th>\n",
       "      <th>Attrition</th>\n",
       "      <th>BusinessTravel</th>\n",
       "      <th>DailyRate</th>\n",
       "      <th>Department</th>\n",
       "      <th>DistanceFromHome</th>\n",
       "      <th>Education</th>\n",
       "      <th>EducationField</th>\n",
       "      <th>...</th>\n",
       "      <th>RelationshipSatisfaction</th>\n",
       "      <th>StandardHours</th>\n",
       "      <th>StockOptionLevel</th>\n",
       "      <th>TotalWorkingYears</th>\n",
       "      <th>TrainingTimesLastYear</th>\n",
       "      <th>WorkLifeBalance</th>\n",
       "      <th>YearsAtCompany</th>\n",
       "      <th>YearsInCurrentRole</th>\n",
       "      <th>YearsSinceLastPromotion</th>\n",
       "      <th>YearsWithCurrManager</th>\n",
       "    </tr>\n",
       "  </thead>\n",
       "  <tbody>\n",
       "    <tr>\n",
       "      <th>0</th>\n",
       "      <td>RM297</td>\n",
       "      <td>18</td>\n",
       "      <td>18-25</td>\n",
       "      <td>Yes</td>\n",
       "      <td>Travel_Rarely</td>\n",
       "      <td>230</td>\n",
       "      <td>Research &amp; Development</td>\n",
       "      <td>3</td>\n",
       "      <td>3</td>\n",
       "      <td>Life Sciences</td>\n",
       "      <td>...</td>\n",
       "      <td>3</td>\n",
       "      <td>80</td>\n",
       "      <td>0</td>\n",
       "      <td>0</td>\n",
       "      <td>2</td>\n",
       "      <td>3</td>\n",
       "      <td>0</td>\n",
       "      <td>0</td>\n",
       "      <td>0</td>\n",
       "      <td>0.0</td>\n",
       "    </tr>\n",
       "    <tr>\n",
       "      <th>1</th>\n",
       "      <td>RM302</td>\n",
       "      <td>18</td>\n",
       "      <td>18-25</td>\n",
       "      <td>No</td>\n",
       "      <td>Travel_Rarely</td>\n",
       "      <td>812</td>\n",
       "      <td>Sales</td>\n",
       "      <td>10</td>\n",
       "      <td>3</td>\n",
       "      <td>Medical</td>\n",
       "      <td>...</td>\n",
       "      <td>1</td>\n",
       "      <td>80</td>\n",
       "      <td>0</td>\n",
       "      <td>0</td>\n",
       "      <td>2</td>\n",
       "      <td>3</td>\n",
       "      <td>0</td>\n",
       "      <td>0</td>\n",
       "      <td>0</td>\n",
       "      <td>0.0</td>\n",
       "    </tr>\n",
       "    <tr>\n",
       "      <th>2</th>\n",
       "      <td>RM458</td>\n",
       "      <td>18</td>\n",
       "      <td>18-25</td>\n",
       "      <td>Yes</td>\n",
       "      <td>Travel_Frequently</td>\n",
       "      <td>1306</td>\n",
       "      <td>Sales</td>\n",
       "      <td>5</td>\n",
       "      <td>3</td>\n",
       "      <td>Marketing</td>\n",
       "      <td>...</td>\n",
       "      <td>4</td>\n",
       "      <td>80</td>\n",
       "      <td>0</td>\n",
       "      <td>0</td>\n",
       "      <td>3</td>\n",
       "      <td>3</td>\n",
       "      <td>0</td>\n",
       "      <td>0</td>\n",
       "      <td>0</td>\n",
       "      <td>0.0</td>\n",
       "    </tr>\n",
       "    <tr>\n",
       "      <th>3</th>\n",
       "      <td>RM728</td>\n",
       "      <td>18</td>\n",
       "      <td>18-25</td>\n",
       "      <td>No</td>\n",
       "      <td>Non-Travel</td>\n",
       "      <td>287</td>\n",
       "      <td>Research &amp; Development</td>\n",
       "      <td>5</td>\n",
       "      <td>2</td>\n",
       "      <td>Life Sciences</td>\n",
       "      <td>...</td>\n",
       "      <td>4</td>\n",
       "      <td>80</td>\n",
       "      <td>0</td>\n",
       "      <td>0</td>\n",
       "      <td>2</td>\n",
       "      <td>3</td>\n",
       "      <td>0</td>\n",
       "      <td>0</td>\n",
       "      <td>0</td>\n",
       "      <td>0.0</td>\n",
       "    </tr>\n",
       "    <tr>\n",
       "      <th>4</th>\n",
       "      <td>RM829</td>\n",
       "      <td>18</td>\n",
       "      <td>18-25</td>\n",
       "      <td>Yes</td>\n",
       "      <td>Non-Travel</td>\n",
       "      <td>247</td>\n",
       "      <td>Research &amp; Development</td>\n",
       "      <td>8</td>\n",
       "      <td>1</td>\n",
       "      <td>Medical</td>\n",
       "      <td>...</td>\n",
       "      <td>4</td>\n",
       "      <td>80</td>\n",
       "      <td>0</td>\n",
       "      <td>0</td>\n",
       "      <td>0</td>\n",
       "      <td>3</td>\n",
       "      <td>0</td>\n",
       "      <td>0</td>\n",
       "      <td>0</td>\n",
       "      <td>0.0</td>\n",
       "    </tr>\n",
       "    <tr>\n",
       "      <th>5</th>\n",
       "      <td>RM973</td>\n",
       "      <td>18</td>\n",
       "      <td>18-25</td>\n",
       "      <td>No</td>\n",
       "      <td>Non-Travel</td>\n",
       "      <td>1124</td>\n",
       "      <td>Research &amp; Development</td>\n",
       "      <td>1</td>\n",
       "      <td>3</td>\n",
       "      <td>Life Sciences</td>\n",
       "      <td>...</td>\n",
       "      <td>3</td>\n",
       "      <td>80</td>\n",
       "      <td>0</td>\n",
       "      <td>0</td>\n",
       "      <td>5</td>\n",
       "      <td>4</td>\n",
       "      <td>0</td>\n",
       "      <td>0</td>\n",
       "      <td>0</td>\n",
       "      <td>0.0</td>\n",
       "    </tr>\n",
       "    <tr>\n",
       "      <th>6</th>\n",
       "      <td>RM1154</td>\n",
       "      <td>18</td>\n",
       "      <td>18-25</td>\n",
       "      <td>Yes</td>\n",
       "      <td>Travel_Frequently</td>\n",
       "      <td>544</td>\n",
       "      <td>Sales</td>\n",
       "      <td>3</td>\n",
       "      <td>2</td>\n",
       "      <td>Medical</td>\n",
       "      <td>...</td>\n",
       "      <td>3</td>\n",
       "      <td>80</td>\n",
       "      <td>0</td>\n",
       "      <td>0</td>\n",
       "      <td>2</td>\n",
       "      <td>4</td>\n",
       "      <td>0</td>\n",
       "      <td>0</td>\n",
       "      <td>0</td>\n",
       "      <td>0.0</td>\n",
       "    </tr>\n",
       "    <tr>\n",
       "      <th>7</th>\n",
       "      <td>RM1312</td>\n",
       "      <td>18</td>\n",
       "      <td>18-25</td>\n",
       "      <td>No</td>\n",
       "      <td>Non-Travel</td>\n",
       "      <td>1431</td>\n",
       "      <td>Research &amp; Development</td>\n",
       "      <td>14</td>\n",
       "      <td>3</td>\n",
       "      <td>Medical</td>\n",
       "      <td>...</td>\n",
       "      <td>3</td>\n",
       "      <td>80</td>\n",
       "      <td>0</td>\n",
       "      <td>0</td>\n",
       "      <td>4</td>\n",
       "      <td>1</td>\n",
       "      <td>0</td>\n",
       "      <td>0</td>\n",
       "      <td>0</td>\n",
       "      <td>0.0</td>\n",
       "    </tr>\n",
       "    <tr>\n",
       "      <th>8</th>\n",
       "      <td>RM128</td>\n",
       "      <td>19</td>\n",
       "      <td>18-25</td>\n",
       "      <td>Yes</td>\n",
       "      <td>Travel_Rarely</td>\n",
       "      <td>528</td>\n",
       "      <td>Sales</td>\n",
       "      <td>22</td>\n",
       "      <td>1</td>\n",
       "      <td>Marketing</td>\n",
       "      <td>...</td>\n",
       "      <td>4</td>\n",
       "      <td>80</td>\n",
       "      <td>0</td>\n",
       "      <td>0</td>\n",
       "      <td>2</td>\n",
       "      <td>2</td>\n",
       "      <td>0</td>\n",
       "      <td>0</td>\n",
       "      <td>0</td>\n",
       "      <td>0.0</td>\n",
       "    </tr>\n",
       "    <tr>\n",
       "      <th>9</th>\n",
       "      <td>RM150</td>\n",
       "      <td>19</td>\n",
       "      <td>18-25</td>\n",
       "      <td>No</td>\n",
       "      <td>Travel_Rarely</td>\n",
       "      <td>1181</td>\n",
       "      <td>Research &amp; Development</td>\n",
       "      <td>3</td>\n",
       "      <td>1</td>\n",
       "      <td>Medical</td>\n",
       "      <td>...</td>\n",
       "      <td>4</td>\n",
       "      <td>80</td>\n",
       "      <td>0</td>\n",
       "      <td>1</td>\n",
       "      <td>3</td>\n",
       "      <td>3</td>\n",
       "      <td>1</td>\n",
       "      <td>0</td>\n",
       "      <td>0</td>\n",
       "      <td>0.0</td>\n",
       "    </tr>\n",
       "  </tbody>\n",
       "</table>\n",
       "<p>10 rows × 38 columns</p>\n",
       "</div>"
      ],
      "text/plain": [
       "    EmpID  Age AgeGroup Attrition     BusinessTravel  DailyRate  \\\n",
       "0   RM297   18    18-25       Yes      Travel_Rarely        230   \n",
       "1   RM302   18    18-25        No      Travel_Rarely        812   \n",
       "2   RM458   18    18-25       Yes  Travel_Frequently       1306   \n",
       "3   RM728   18    18-25        No         Non-Travel        287   \n",
       "4   RM829   18    18-25       Yes         Non-Travel        247   \n",
       "5   RM973   18    18-25        No         Non-Travel       1124   \n",
       "6  RM1154   18    18-25       Yes  Travel_Frequently        544   \n",
       "7  RM1312   18    18-25        No         Non-Travel       1431   \n",
       "8   RM128   19    18-25       Yes      Travel_Rarely        528   \n",
       "9   RM150   19    18-25        No      Travel_Rarely       1181   \n",
       "\n",
       "               Department  DistanceFromHome  Education EducationField  ...  \\\n",
       "0  Research & Development                 3          3  Life Sciences  ...   \n",
       "1                   Sales                10          3        Medical  ...   \n",
       "2                   Sales                 5          3      Marketing  ...   \n",
       "3  Research & Development                 5          2  Life Sciences  ...   \n",
       "4  Research & Development                 8          1        Medical  ...   \n",
       "5  Research & Development                 1          3  Life Sciences  ...   \n",
       "6                   Sales                 3          2        Medical  ...   \n",
       "7  Research & Development                14          3        Medical  ...   \n",
       "8                   Sales                22          1      Marketing  ...   \n",
       "9  Research & Development                 3          1        Medical  ...   \n",
       "\n",
       "   RelationshipSatisfaction  StandardHours  StockOptionLevel  \\\n",
       "0                         3             80                 0   \n",
       "1                         1             80                 0   \n",
       "2                         4             80                 0   \n",
       "3                         4             80                 0   \n",
       "4                         4             80                 0   \n",
       "5                         3             80                 0   \n",
       "6                         3             80                 0   \n",
       "7                         3             80                 0   \n",
       "8                         4             80                 0   \n",
       "9                         4             80                 0   \n",
       "\n",
       "  TotalWorkingYears  TrainingTimesLastYear  WorkLifeBalance  YearsAtCompany  \\\n",
       "0                 0                      2                3               0   \n",
       "1                 0                      2                3               0   \n",
       "2                 0                      3                3               0   \n",
       "3                 0                      2                3               0   \n",
       "4                 0                      0                3               0   \n",
       "5                 0                      5                4               0   \n",
       "6                 0                      2                4               0   \n",
       "7                 0                      4                1               0   \n",
       "8                 0                      2                2               0   \n",
       "9                 1                      3                3               1   \n",
       "\n",
       "  YearsInCurrentRole  YearsSinceLastPromotion YearsWithCurrManager  \n",
       "0                  0                        0                  0.0  \n",
       "1                  0                        0                  0.0  \n",
       "2                  0                        0                  0.0  \n",
       "3                  0                        0                  0.0  \n",
       "4                  0                        0                  0.0  \n",
       "5                  0                        0                  0.0  \n",
       "6                  0                        0                  0.0  \n",
       "7                  0                        0                  0.0  \n",
       "8                  0                        0                  0.0  \n",
       "9                  0                        0                  0.0  \n",
       "\n",
       "[10 rows x 38 columns]"
      ]
     },
     "metadata": {},
     "output_type": "display_data"
    },
    {
     "name": "stdout",
     "output_type": "stream",
     "text": [
      "<class 'pandas.core.frame.DataFrame'>\n",
      "RangeIndex: 1480 entries, 0 to 1479\n",
      "Data columns (total 38 columns):\n",
      " #   Column                    Non-Null Count  Dtype  \n",
      "---  ------                    --------------  -----  \n",
      " 0   EmpID                     1480 non-null   object \n",
      " 1   Age                       1480 non-null   int64  \n",
      " 2   AgeGroup                  1480 non-null   object \n",
      " 3   Attrition                 1480 non-null   object \n",
      " 4   BusinessTravel            1480 non-null   object \n",
      " 5   DailyRate                 1480 non-null   int64  \n",
      " 6   Department                1480 non-null   object \n",
      " 7   DistanceFromHome          1480 non-null   int64  \n",
      " 8   Education                 1480 non-null   int64  \n",
      " 9   EducationField            1480 non-null   object \n",
      " 10  EmployeeCount             1480 non-null   int64  \n",
      " 11  EmployeeNumber            1480 non-null   int64  \n",
      " 12  EnvironmentSatisfaction   1480 non-null   int64  \n",
      " 13  Gender                    1480 non-null   object \n",
      " 14  HourlyRate                1480 non-null   int64  \n",
      " 15  JobInvolvement            1480 non-null   int64  \n",
      " 16  JobLevel                  1480 non-null   int64  \n",
      " 17  JobRole                   1480 non-null   object \n",
      " 18  JobSatisfaction           1480 non-null   int64  \n",
      " 19  MaritalStatus             1480 non-null   object \n",
      " 20  MonthlyIncome             1480 non-null   int64  \n",
      " 21  SalarySlab                1480 non-null   object \n",
      " 22  MonthlyRate               1480 non-null   int64  \n",
      " 23  NumCompaniesWorked        1480 non-null   int64  \n",
      " 24  Over18                    1480 non-null   object \n",
      " 25  OverTime                  1480 non-null   object \n",
      " 26  PercentSalaryHike         1480 non-null   int64  \n",
      " 27  PerformanceRating         1480 non-null   int64  \n",
      " 28  RelationshipSatisfaction  1480 non-null   int64  \n",
      " 29  StandardHours             1480 non-null   int64  \n",
      " 30  StockOptionLevel          1480 non-null   int64  \n",
      " 31  TotalWorkingYears         1480 non-null   int64  \n",
      " 32  TrainingTimesLastYear     1480 non-null   int64  \n",
      " 33  WorkLifeBalance           1480 non-null   int64  \n",
      " 34  YearsAtCompany            1480 non-null   int64  \n",
      " 35  YearsInCurrentRole        1480 non-null   int64  \n",
      " 36  YearsSinceLastPromotion   1480 non-null   int64  \n",
      " 37  YearsWithCurrManager      1423 non-null   float64\n",
      "dtypes: float64(1), int64(25), object(12)\n",
      "memory usage: 439.5+ KB\n",
      "None\n"
     ]
    }
   ],
   "source": [
    "# Импорт библиотечных модулей\n",
    "import pandas as pd\n",
    "import matplotlib.pyplot as plt\n",
    "import seaborn as sns\n",
    "import numpy as np\n",
    "from scipy import stats\n",
    "\n",
    "# Считываем исходные данные из CSV файла в DataFrame df\n",
    "df = pd.read_csv('HR_Analytics.csv')\n",
    "\n",
    "# Отображаем первые десять строк для наглядной проверки корректности загрузки\n",
    "display(df.head(10)) #tail()\n",
    "\n",
    "# Выводим информацю о датафрейме\n",
    "print(df.info())"
   ]
  },
  {
   "cell_type": "markdown",
   "id": "d6647397",
   "metadata": {},
   "source": [
    "# Предобработка данных"
   ]
  },
  {
   "cell_type": "code",
   "execution_count": 203,
   "id": "01672fa2",
   "metadata": {},
   "outputs": [
    {
     "name": "stdout",
     "output_type": "stream",
     "text": [
      "Строк в исходном наборе: 1480\n",
      "Пустых ячеек: 57\n"
     ]
    }
   ],
   "source": [
    "# Изначальный объём данных\n",
    "data_len_start=df.shape[0]\n",
    "print(\"Строк в исходном наборе:\",data_len_start)\n",
    "print(\"Пустых ячеек:\", df.isna().sum().sum())"
   ]
  },
  {
   "cell_type": "markdown",
   "id": "ee3bac6c",
   "metadata": {},
   "source": [
    "# ID Сотрудника (EmpID)"
   ]
  },
  {
   "cell_type": "code",
   "execution_count": 204,
   "id": "7f276fa6",
   "metadata": {},
   "outputs": [
    {
     "name": "stdout",
     "output_type": "stream",
     "text": [
      "EmpID\n",
      "RM1468    2\n",
      "RM1465    2\n",
      "RM1470    2\n",
      "RM1461    2\n",
      "RM1464    2\n",
      "         ..\n",
      "RM939     1\n",
      "RM967     1\n",
      "RM1010    1\n",
      "RM1302    1\n",
      "RM1210    1\n",
      "Name: count, Length: 1470, dtype: int64\n",
      "Пропуски: 0\n",
      "\n",
      "Все дубликаты EmpID:\n",
      "       EmpID  EmployeeNumber  Age              Department\n",
      "327   RM1461            2054   29  Research & Development\n",
      "328   RM1461            2054   29  Research & Development\n",
      "1336  RM1462            2055   50                   Sales\n",
      "1335  RM1462            2055   50                   Sales\n",
      "954   RM1463            2056   39                   Sales\n",
      "952   RM1463            2056   39                   Sales\n",
      "457   RM1464            2057   31  Research & Development\n",
      "458   RM1464            2057   31  Research & Development\n",
      "161   RM1465            2060   26                   Sales\n",
      "162   RM1465            2060   26                   Sales\n",
      "802   RM1466            2061   36  Research & Development\n",
      "803   RM1466            2061   36  Research & Development\n",
      "953   RM1467            2062   39  Research & Development\n",
      "955   RM1467            2062   39  Research & Development\n",
      "211   RM1468            2064   27  Research & Development\n",
      "210   RM1468            2064   27  Research & Development\n",
      "1304  RM1469            2065   49                   Sales\n",
      "1305  RM1469            2065   49                   Sales\n",
      "654   RM1470            2068   34  Research & Development\n",
      "655   RM1470            2068   34  Research & Development\n",
      "\n",
      "Было записей: 1480\n",
      "Стало записей: 1470\n",
      "Удалено дубликатов: 10\n"
     ]
    }
   ],
   "source": [
    "print(df['EmpID'].value_counts())\n",
    "print(\"Пропуски:\", sum(pd.isnull(df['Attrition'])))\n",
    "\n",
    "# Замечаем, что некоторые ID повторяются\n",
    "\n",
    "# Находим все дубликаты\n",
    "duplicates = df[df.duplicated('EmpID', keep=False)]\n",
    "duplicates_sorted = duplicates.sort_values('EmpID')\n",
    "\n",
    "print(\"\\nВсе дубликаты EmpID:\")\n",
    "print(duplicates_sorted[['EmpID', 'EmployeeNumber', 'Age', 'Department']].to_string())\n",
    "\n",
    "prev_len = len(df)\n",
    "\n",
    "# Удаляем лишние строки\n",
    "df = df.drop_duplicates(subset='EmpID', keep='first')\n",
    "\n",
    "print(f\"\\nБыло записей: {prev_len}\")\n",
    "print(f\"Стало записей: {len(df)}\")\n",
    "print(f\"Удалено дубликатов: {prev_len - len(df)}\")"
   ]
  },
  {
   "cell_type": "markdown",
   "id": "e0ad0c93",
   "metadata": {},
   "source": [
    "## Возраст"
   ]
  },
  {
   "cell_type": "code",
   "execution_count": 205,
   "id": "e666a613",
   "metadata": {},
   "outputs": [
    {
     "name": "stdout",
     "output_type": "stream",
     "text": [
      "Age\n",
      "35    78\n",
      "34    77\n",
      "31    69\n",
      "36    69\n",
      "29    68\n",
      "32    61\n",
      "30    60\n",
      "33    58\n",
      "38    58\n",
      "40    57\n",
      "37    50\n",
      "27    48\n",
      "28    48\n",
      "42    46\n",
      "39    42\n",
      "45    41\n",
      "41    40\n",
      "26    39\n",
      "44    33\n",
      "46    33\n",
      "43    32\n",
      "50    30\n",
      "25    26\n",
      "24    26\n",
      "47    24\n",
      "49    24\n",
      "55    22\n",
      "53    19\n",
      "48    19\n",
      "51    19\n",
      "52    18\n",
      "54    18\n",
      "22    16\n",
      "23    14\n",
      "56    14\n",
      "58    14\n",
      "21    13\n",
      "20    11\n",
      "59    10\n",
      "19     9\n",
      "18     8\n",
      "60     5\n",
      "57     4\n",
      "Name: count, dtype: int64\n",
      "Пропуски: 0\n"
     ]
    },
    {
     "data": {
      "image/png": "[encoded data removed]",
      "text/plain": [
       "<Figure size 1000x1000 with 1 Axes>"
      ]
     },
     "metadata": {},
     "output_type": "display_data"
    }
   ],
   "source": [
    "print(df['Age'].value_counts())\n",
    "df['Age'].value_counts().plot(kind='barh', figsize=(10, 10))\n",
    "print(\"Пропуски:\", sum(pd.isnull(df['Attrition'])))"
   ]
  },
  {
   "cell_type": "markdown",
   "id": "dee58560",
   "metadata": {},
   "source": [
    "## Возрастная группа"
   ]
  },
  {
   "cell_type": "code",
   "execution_count": 206,
   "id": "f5cea768",
   "metadata": {},
   "outputs": [
    {
     "name": "stdout",
     "output_type": "stream",
     "text": [
      "AgeGroup\n",
      "26-35    606\n",
      "36-45    468\n",
      "46-55    226\n",
      "18-25    123\n",
      "55+       47\n",
      "Name: count, dtype: int64\n",
      "Пропуски: 0\n"
     ]
    },
    {
     "data": {
      "image/png": "[encoded data removed]",
      "text/plain": [
       "<Figure size 800x400 with 1 Axes>"
      ]
     },
     "metadata": {},
     "output_type": "display_data"
    }
   ],
   "source": [
    "print(df['AgeGroup'].value_counts())\n",
    "df['AgeGroup'].value_counts().plot(kind='barh', figsize=(8, 4))\n",
    "print(\"Пропуски:\", sum(pd.isnull(df['Attrition'])))"
   ]
  },
  {
   "cell_type": "markdown",
   "id": "c8c3edac",
   "metadata": {},
   "source": [
    "## Уволился ли сотрудник"
   ]
  },
  {
   "cell_type": "code",
   "execution_count": 222,
   "id": "c67c2c78",
   "metadata": {},
   "outputs": [
    {
     "name": "stdout",
     "output_type": "stream",
     "text": [
      "Attrition\n",
      "No     1233\n",
      "Yes     237\n",
      "Name: count, dtype: int64\n",
      "Пропуски: 0\n"
     ]
    },
    {
     "data": {
      "text/plain": [
       "<Axes: ylabel='Attrition'>"
      ]
     },
     "execution_count": 222,
     "metadata": {},
     "output_type": "execute_result"
    },
    {
     "data": {
      "image/png": "[encoded data removed]",
      "text/plain": [
       "<Figure size 600x300 with 1 Axes>"
      ]
     },
     "metadata": {},
     "output_type": "display_data"
    }
   ],
   "source": [
    "print(df['Attrition'].value_counts())\n",
    "print(\"Пропуски:\", sum(pd.isnull(df['Attrition'])))\n",
    "\n",
    "df['Attrition'].value_counts().plot(kind='barh', figsize=(6, 3))"
   ]
  },
  {
   "cell_type": "markdown",
   "id": "0c58b4bb",
   "metadata": {},
   "source": [
    "## Частота командировок"
   ]
  },
  {
   "cell_type": "code",
   "execution_count": null,
   "id": "5a15aece",
   "metadata": {},
   "outputs": [
    {
     "name": "stdout",
     "output_type": "stream",
     "text": [
      "BusinessTravel\n",
      "Travel_Rarely        1036\n",
      "Travel_Frequently     277\n",
      "Non-Travel            150\n",
      "TravelRarely            7\n",
      "Name: count, dtype: int64\n",
      "Пропуски: 0\n"
     ]
    },
    {
     "data": {
      "image/png": "[encoded data removed]",
      "text/plain": [
       "<Figure size 600x300 with 1 Axes>"
      ]
     },
     "metadata": {},
     "output_type": "display_data"
    }
   ],
   "source": [
    "print(df['BusinessTravel'].value_counts())\n",
    "print(\"Пропуски:\", sum(pd.isnull(df['BusinessTravel'])))\n",
    "\n",
    "df['BusinessTravel'].value_counts().plot(kind='barh', figsize=(6, 3))"
   ]
  },
  {
   "cell_type": "code",
   "execution_count": 209,
   "id": "565f5ab2",
   "metadata": {},
   "outputs": [
    {
     "name": "stdout",
     "output_type": "stream",
     "text": [
      "BusinessTravel\n",
      "Travel Rarely        1043\n",
      "Travel Frequently     277\n",
      "Non Travel            150\n",
      "Name: count, dtype: int64\n"
     ]
    },
    {
     "data": {
      "text/plain": [
       "<Axes: ylabel='BusinessTravel'>"
      ]
     },
     "execution_count": 209,
     "metadata": {},
     "output_type": "execute_result"
    },
    {
     "data": {
      "image/png": "[encoded data removed]",
      "text/plain": [
       "<Figure size 600x300 with 1 Axes>"
      ]
     },
     "metadata": {},
     "output_type": "display_data"
    }
   ],
   "source": [
    "# Заменим все \"Travel_Rarely\" и \"TravelRarely\" на \"Travel Rarely\"\n",
    "df[\"BusinessTravel\"] = df[\"BusinessTravel\"].replace(['Travel_Rarely', 'TravelRarely'], 'Travel Rarely')\n",
    "# \"Travel_Frequently\" на \"Travel Frequently\"\n",
    "df[\"BusinessTravel\"] = df[\"BusinessTravel\"].replace('Travel_Frequently', 'Travel Frequently')\n",
    "# А \"Non-Travel\" на \"Non Travel\"\n",
    "df[\"BusinessTravel\"] = df[\"BusinessTravel\"].replace('Non-Travel', 'Non Travel')\n",
    "\n",
    "print(df['BusinessTravel'].value_counts())\n",
    "df['BusinessTravel'].value_counts().plot(kind='barh', figsize=(6, 3))"
   ]
  },
  {
   "cell_type": "markdown",
   "id": "87fd7af0",
   "metadata": {},
   "source": [
    "# Ежедневная ставка в $ (Daily Rate)"
   ]
  },
  {
   "cell_type": "code",
   "execution_count": 210,
   "id": "b468a0ed",
   "metadata": {},
   "outputs": [
    {
     "name": "stdout",
     "output_type": "stream",
     "text": [
      "DailyRate\n",
      "691     6\n",
      "1082    5\n",
      "329     5\n",
      "408     5\n",
      "1329    5\n",
      "       ..\n",
      "1435    1\n",
      "818     1\n",
      "1429    1\n",
      "1499    1\n",
      "1457    1\n",
      "Name: count, Length: 886, dtype: int64\n",
      "Пропуски: 0\n"
     ]
    },
    {
     "data": {
      "image/png": "[encoded data removed]",
      "text/plain": [
       "<Figure size 1000x600 with 1 Axes>"
      ]
     },
     "metadata": {},
     "output_type": "display_data"
    }
   ],
   "source": [
    "print(df['DailyRate'].value_counts())\n",
    "# df['DailyRate'].value_counts().plot(kind='barh', figsize=(6, 20))\n",
    "print(\"Пропуски:\", sum(pd.isnull(df['DailyRate'])))\n",
    "\n",
    "plt.figure(figsize=(10, 6))\n",
    "plt.hist(df['DailyRate'], bins=70, edgecolor='black', alpha=0.9)\n",
    "plt.title('Соотношение значений DailyRate')\n",
    "plt.xlabel('Daily Rate')\n",
    "plt.ylabel('Количество сотрудников')\n",
    "plt.grid(alpha=0.3)\n",
    "plt.show()"
   ]
  },
  {
   "cell_type": "markdown",
   "id": "3b82acb1",
   "metadata": {},
   "source": [
    "# Отдел"
   ]
  },
  {
   "cell_type": "code",
   "execution_count": 211,
   "id": "ad8826c7",
   "metadata": {},
   "outputs": [
    {
     "name": "stdout",
     "output_type": "stream",
     "text": [
      "Department\n",
      "Research & Development    961\n",
      "Sales                     446\n",
      "Human Resources            63\n",
      "Name: count, dtype: int64\n",
      "Пропуски: 0\n"
     ]
    },
    {
     "data": {
      "image/png": "[encoded data removed]",
      "text/plain": [
       "<Figure size 600x300 with 1 Axes>"
      ]
     },
     "metadata": {},
     "output_type": "display_data"
    }
   ],
   "source": [
    "print(df['Department'].value_counts())\n",
    "df['Department'].value_counts().plot(kind='barh', figsize=(6, 3))\n",
    "print(\"Пропуски:\", sum(pd.isnull(df['Department'])))"
   ]
  },
  {
   "cell_type": "markdown",
   "id": "8fe0dfb8",
   "metadata": {},
   "source": [
    "# Расстояние от офиса до дома в милях(?)"
   ]
  },
  {
   "cell_type": "code",
   "execution_count": 212,
   "id": "e94e704e",
   "metadata": {},
   "outputs": [
    {
     "name": "stdout",
     "output_type": "stream",
     "text": [
      "DistanceFromHome\n",
      "2     211\n",
      "1     208\n",
      "10     86\n",
      "9      85\n",
      "3      84\n",
      "7      84\n",
      "8      80\n",
      "5      65\n",
      "4      64\n",
      "6      59\n",
      "16     32\n",
      "11     29\n",
      "24     28\n",
      "23     27\n",
      "29     27\n",
      "18     26\n",
      "15     26\n",
      "26     25\n",
      "20     25\n",
      "25     25\n",
      "28     23\n",
      "19     22\n",
      "14     21\n",
      "12     20\n",
      "17     20\n",
      "13     19\n",
      "22     19\n",
      "21     18\n",
      "27     12\n",
      "Name: count, dtype: int64\n",
      "Пропуски: 0\n"
     ]
    },
    {
     "data": {
      "image/png": "[encoded data removed]",
      "text/plain": [
       "<Figure size 1000x600 with 1 Axes>"
      ]
     },
     "metadata": {},
     "output_type": "display_data"
    }
   ],
   "source": [
    "print(df['DistanceFromHome'].value_counts())\n",
    "print(\"Пропуски:\", sum(pd.isnull(df['DistanceFromHome'])))\n",
    "\n",
    "plt.figure(figsize=(10, 6))\n",
    "plt.hist(df['DistanceFromHome'], bins=30, edgecolor='black', alpha=0.9)\n",
    "plt.title('Соотношение значений DistanceFromHome')\n",
    "plt.xlabel('DistanceFromHome')\n",
    "plt.ylabel('Количество сотрудников')\n",
    "plt.grid(alpha=0.3)\n",
    "plt.show()"
   ]
  },
  {
   "cell_type": "markdown",
   "id": "04c3c1fe",
   "metadata": {},
   "source": [
    "# Количество высших(?) образований"
   ]
  },
  {
   "cell_type": "code",
   "execution_count": 213,
   "id": "dd070a9f",
   "metadata": {},
   "outputs": [
    {
     "name": "stdout",
     "output_type": "stream",
     "text": [
      "Education\n",
      "3    572\n",
      "4    398\n",
      "2    282\n",
      "1    170\n",
      "5     48\n",
      "Name: count, dtype: int64\n",
      "Пропуски: 0\n"
     ]
    },
    {
     "data": {
      "text/plain": [
       "<Axes: ylabel='Education'>"
      ]
     },
     "execution_count": 213,
     "metadata": {},
     "output_type": "execute_result"
    },
    {
     "data": {
      "image/png": "[encoded data removed]",
      "text/plain": [
       "<Figure size 1000x200 with 1 Axes>"
      ]
     },
     "metadata": {},
     "output_type": "display_data"
    }
   ],
   "source": [
    "print(df['Education'].value_counts())\n",
    "print(\"Пропуски:\", sum(pd.isnull(df['Education'])))\n",
    "\n",
    "df['Education'].value_counts().plot(kind='barh', figsize=(10, 2))"
   ]
  },
  {
   "cell_type": "markdown",
   "id": "81e4be2f",
   "metadata": {},
   "source": [
    "# Область образования"
   ]
  },
  {
   "cell_type": "code",
   "execution_count": 214,
   "id": "ba6b69b4",
   "metadata": {},
   "outputs": [
    {
     "name": "stdout",
     "output_type": "stream",
     "text": [
      "EducationField\n",
      "Life Sciences       606\n",
      "Medical             464\n",
      "Marketing           159\n",
      "Technical Degree    132\n",
      "Other                82\n",
      "Human Resources      27\n",
      "Name: count, dtype: int64\n",
      "Пропуски: 0\n"
     ]
    },
    {
     "data": {
      "text/plain": [
       "<Axes: ylabel='EducationField'>"
      ]
     },
     "execution_count": 214,
     "metadata": {},
     "output_type": "execute_result"
    },
    {
     "data": {
      "image/png": "[encoded data removed]",
      "text/plain": [
       "<Figure size 600x200 with 1 Axes>"
      ]
     },
     "metadata": {},
     "output_type": "display_data"
    }
   ],
   "source": [
    "print(df['EducationField'].value_counts())\n",
    "print(\"Пропуски:\", sum(pd.isnull(df['EducationField'])))\n",
    "\n",
    "df['EducationField'].value_counts().plot(kind='barh', figsize=(6, 2))\n"
   ]
  },
  {
   "cell_type": "markdown",
   "id": "0f2369d0",
   "metadata": {},
   "source": [
    "# Количество сотрудников (EmployeeCount)"
   ]
  },
  {
   "cell_type": "code",
   "execution_count": 215,
   "id": "65051d35",
   "metadata": {},
   "outputs": [
    {
     "name": "stdout",
     "output_type": "stream",
     "text": [
      "EmployeeCount\n",
      "1    1470\n",
      "Name: count, dtype: int64\n",
      "Пропуски: 0\n"
     ]
    }
   ],
   "source": [
    "print(df['EmployeeCount'].value_counts())\n",
    "print(\"Пропуски:\", sum(pd.isnull(df['EmployeeCount'])))\n",
    "\n",
    "# Не несет никакой ценности, т.к. в каждом сотруднике один сотрудник :)\n",
    "# => удаляем столбец\n",
    "\n",
    "df = df.drop('EmployeeCount', axis=1)"
   ]
  },
  {
   "cell_type": "markdown",
   "id": "dc38d6b0",
   "metadata": {},
   "source": [
    "# Номер сотрудника (EmployeeNumber)"
   ]
  },
  {
   "cell_type": "code",
   "execution_count": 217,
   "id": "fadec754",
   "metadata": {},
   "outputs": [
    {
     "name": "stdout",
     "output_type": "stream",
     "text": [
      "EmployeeNumber\n",
      "405     1\n",
      "411     1\n",
      "614     1\n",
      "1012    1\n",
      "1156    1\n",
      "       ..\n",
      "549     1\n",
      "573     1\n",
      "732     1\n",
      "1233    1\n",
      "1697    1\n",
      "Name: count, Length: 1470, dtype: int64\n",
      "Пропуски: 0\n"
     ]
    }
   ],
   "source": [
    "print(df['EmployeeNumber'].value_counts())\n",
    "print(\"Пропуски:\", sum(pd.isnull(df['EmployeeNumber'])))\n",
    "\n",
    "# Не несет никакой ценности, т.к. это просто порядковый номер сотрудника, а у нас уже есть EmpID \n",
    "# => удаляем столбец\n",
    "\n",
    "df = df.drop('EmployeeNumber', axis=1)"
   ]
  },
  {
   "cell_type": "markdown",
   "id": "a58aa80f",
   "metadata": {},
   "source": [
    "# Оценка сотрудником условий труда (EnvironmentSatisfaction)"
   ]
  },
  {
   "cell_type": "code",
   "execution_count": 220,
   "id": "467418f1",
   "metadata": {},
   "outputs": [
    {
     "name": "stdout",
     "output_type": "stream",
     "text": [
      "EnvironmentSatisfaction\n",
      "3    453\n",
      "4    446\n",
      "2    287\n",
      "1    284\n",
      "Name: count, dtype: int64\n",
      "Пропуски: 0\n"
     ]
    },
    {
     "data": {
      "text/plain": [
       "<Axes: ylabel='EnvironmentSatisfaction'>"
      ]
     },
     "execution_count": 220,
     "metadata": {},
     "output_type": "execute_result"
    },
    {
     "data": {
      "image/png": "[encoded data removed]",
      "text/plain": [
       "<Figure size 800x200 with 1 Axes>"
      ]
     },
     "metadata": {},
     "output_type": "display_data"
    }
   ],
   "source": [
    "print(df['EnvironmentSatisfaction'].value_counts())\n",
    "print(\"Пропуски:\", sum(pd.isnull(df['EnvironmentSatisfaction'])))\n",
    "\n",
    "df['EnvironmentSatisfaction'].value_counts().plot(kind='barh', figsize=(8, 2))\n"
   ]
  },
  {
   "cell_type": "markdown",
   "id": "4d026f9c",
   "metadata": {},
   "source": [
    "# Пол сотрудника (Gender)"
   ]
  },
  {
   "cell_type": "code",
   "execution_count": 221,
   "id": "5b1dcb5a",
   "metadata": {},
   "outputs": [
    {
     "name": "stdout",
     "output_type": "stream",
     "text": [
      "Gender\n",
      "Male      882\n",
      "Female    588\n",
      "Name: count, dtype: int64\n",
      "Пропуски: 0\n"
     ]
    },
    {
     "data": {
      "text/plain": [
       "<Axes: ylabel='Gender'>"
      ]
     },
     "execution_count": 221,
     "metadata": {},
     "output_type": "execute_result"
    },
    {
     "data": {
      "image/png": "[encoded data removed]",
      "text/plain": [
       "<Figure size 800x200 with 1 Axes>"
      ]
     },
     "metadata": {},
     "output_type": "display_data"
    }
   ],
   "source": [
    "print(df['Gender'].value_counts())\n",
    "print(\"Пропуски:\", sum(pd.isnull(df['Gender'])))\n",
    "\n",
    "df['Gender'].value_counts().plot(kind='barh', figsize=(8, 2))\n"
   ]
  },
  {
   "cell_type": "markdown",
   "id": "73ede3fb",
   "metadata": {},
   "source": [
    "# Почасовая оплата (HourlyRate)"
   ]
  },
  {
   "cell_type": "code",
   "execution_count": 226,
   "id": "6c4127c4",
   "metadata": {},
   "outputs": [
    {
     "name": "stdout",
     "output_type": "stream",
     "text": [
      "HourlyRate\n",
      "66    29\n",
      "84    28\n",
      "98    28\n",
      "48    28\n",
      "42    28\n",
      "      ..\n",
      "31    15\n",
      "68    14\n",
      "53    14\n",
      "38    13\n",
      "34    12\n",
      "Name: count, Length: 71, dtype: int64\n",
      "Пропуски: 0\n"
     ]
    },
    {
     "data": {
      "image/png": "[encoded data removed]",
      "text/plain": [
       "<Figure size 1000x600 with 1 Axes>"
      ]
     },
     "metadata": {},
     "output_type": "display_data"
    }
   ],
   "source": [
    "print(df['HourlyRate'].value_counts())\n",
    "print(\"Пропуски:\", sum(pd.isnull(df['HourlyRate'])))\n",
    "\n",
    "plt.figure(figsize=(10, 6))\n",
    "plt.hist(df['HourlyRate'], bins=50, edgecolor='black', alpha=0.9)\n",
    "plt.title('Соотношение значений HourlyRate')\n",
    "plt.xlabel('HourlyRate')\n",
    "plt.ylabel('Количество сотрудников')\n",
    "plt.grid(alpha=0.3)\n",
    "plt.show()\n"
   ]
  },
  {
   "cell_type": "markdown",
   "id": "f84c0ab1",
   "metadata": {},
   "source": []
  }
 ],
 "metadata": {
  "kernelspec": {
   "display_name": ".venv",
   "language": "python",
   "name": "python3"
  },
  "language_info": {
   "codemirror_mode": {
    "name": "ipython",
    "version": 3
   },
   "file_extension": ".py",
   "mimetype": "text/x-python",
   "name": "python",
   "nbconvert_exporter": "python",
   "pygments_lexer": "ipython3",
   "version": "3.13.7"
  }
 },
 "nbformat": 4,
 "nbformat_minor": 5
}
